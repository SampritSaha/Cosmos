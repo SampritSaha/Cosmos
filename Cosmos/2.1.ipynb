{
 "cells": [
  {
   "cell_type": "code",
   "execution_count": 1,
   "id": "f584ece1-2e16-4233-89de-33720d2d044b",
   "metadata": {},
   "outputs": [
    {
     "data": {
      "text/html": [
       "<div>\n",
       "<style scoped>\n",
       "    .dataframe tbody tr th:only-of-type {\n",
       "        vertical-align: middle;\n",
       "    }\n",
       "\n",
       "    .dataframe tbody tr th {\n",
       "        vertical-align: top;\n",
       "    }\n",
       "\n",
       "    .dataframe thead th {\n",
       "        text-align: right;\n",
       "    }\n",
       "</style>\n",
       "<table border=\"1\" class=\"dataframe\">\n",
       "  <thead>\n",
       "    <tr style=\"text-align: right;\">\n",
       "      <th></th>\n",
       "      <th>P_NAME</th>\n",
       "      <th>P_STATUS</th>\n",
       "      <th>P_MASS</th>\n",
       "      <th>P_MASS_ERROR_MIN</th>\n",
       "      <th>P_MASS_ERROR_MAX</th>\n",
       "      <th>P_RADIUS</th>\n",
       "      <th>P_RADIUS_ERROR_MIN</th>\n",
       "      <th>P_RADIUS_ERROR_MAX</th>\n",
       "      <th>P_YEAR</th>\n",
       "      <th>P_UPDATED</th>\n",
       "      <th>...</th>\n",
       "      <th>P_HABZONE_CON</th>\n",
       "      <th>P_TYPE_TEMP</th>\n",
       "      <th>P_HABITABLE</th>\n",
       "      <th>P_ESI</th>\n",
       "      <th>S_CONSTELLATION</th>\n",
       "      <th>S_CONSTELLATION_ABR</th>\n",
       "      <th>S_CONSTELLATION_ENG</th>\n",
       "      <th>P_RADIUS_EST</th>\n",
       "      <th>P_MASS_EST</th>\n",
       "      <th>P_SEMI_MAJOR_AXIS_EST</th>\n",
       "    </tr>\n",
       "  </thead>\n",
       "  <tbody>\n",
       "    <tr>\n",
       "      <th>0</th>\n",
       "      <td>11 Com b</td>\n",
       "      <td>3.0</td>\n",
       "      <td>6165.86330</td>\n",
       "      <td>-476.74200</td>\n",
       "      <td>476.74200</td>\n",
       "      <td>NaN</td>\n",
       "      <td>NaN</td>\n",
       "      <td>NaN</td>\n",
       "      <td>2007</td>\n",
       "      <td>2014-05-14</td>\n",
       "      <td>...</td>\n",
       "      <td>0</td>\n",
       "      <td>Hot</td>\n",
       "      <td>0</td>\n",
       "      <td>0.083813</td>\n",
       "      <td>Coma Berenices</td>\n",
       "      <td>Com</td>\n",
       "      <td>Berenice's Hair</td>\n",
       "      <td>12.082709</td>\n",
       "      <td>6165.86330</td>\n",
       "      <td>1.29</td>\n",
       "    </tr>\n",
       "    <tr>\n",
       "      <th>1</th>\n",
       "      <td>11 UMi b</td>\n",
       "      <td>3.0</td>\n",
       "      <td>4684.78480</td>\n",
       "      <td>-794.57001</td>\n",
       "      <td>794.57001</td>\n",
       "      <td>NaN</td>\n",
       "      <td>NaN</td>\n",
       "      <td>NaN</td>\n",
       "      <td>2009</td>\n",
       "      <td>2018-09-06</td>\n",
       "      <td>...</td>\n",
       "      <td>0</td>\n",
       "      <td>Hot</td>\n",
       "      <td>0</td>\n",
       "      <td>0.082414</td>\n",
       "      <td>Ursa Minor</td>\n",
       "      <td>UMi</td>\n",
       "      <td>Little Bear</td>\n",
       "      <td>12.229641</td>\n",
       "      <td>4684.78480</td>\n",
       "      <td>1.53</td>\n",
       "    </tr>\n",
       "    <tr>\n",
       "      <th>2</th>\n",
       "      <td>14 And b</td>\n",
       "      <td>3.0</td>\n",
       "      <td>1525.57440</td>\n",
       "      <td>NaN</td>\n",
       "      <td>NaN</td>\n",
       "      <td>NaN</td>\n",
       "      <td>NaN</td>\n",
       "      <td>NaN</td>\n",
       "      <td>2008</td>\n",
       "      <td>2014-05-14</td>\n",
       "      <td>...</td>\n",
       "      <td>0</td>\n",
       "      <td>Hot</td>\n",
       "      <td>0</td>\n",
       "      <td>0.081917</td>\n",
       "      <td>Andromeda</td>\n",
       "      <td>And</td>\n",
       "      <td>Andromeda</td>\n",
       "      <td>12.848516</td>\n",
       "      <td>1525.57440</td>\n",
       "      <td>0.83</td>\n",
       "    </tr>\n",
       "    <tr>\n",
       "      <th>3</th>\n",
       "      <td>14 Her b</td>\n",
       "      <td>3.0</td>\n",
       "      <td>1481.07850</td>\n",
       "      <td>-47.67420</td>\n",
       "      <td>47.67420</td>\n",
       "      <td>NaN</td>\n",
       "      <td>NaN</td>\n",
       "      <td>NaN</td>\n",
       "      <td>2002</td>\n",
       "      <td>2018-09-06</td>\n",
       "      <td>...</td>\n",
       "      <td>0</td>\n",
       "      <td>Cold</td>\n",
       "      <td>0</td>\n",
       "      <td>0.145241</td>\n",
       "      <td>Hercules</td>\n",
       "      <td>Her</td>\n",
       "      <td>Hercules</td>\n",
       "      <td>12.865261</td>\n",
       "      <td>1481.07850</td>\n",
       "      <td>2.93</td>\n",
       "    </tr>\n",
       "    <tr>\n",
       "      <th>4</th>\n",
       "      <td>16 Cyg B b</td>\n",
       "      <td>3.0</td>\n",
       "      <td>565.73385</td>\n",
       "      <td>-25.42624</td>\n",
       "      <td>25.42624</td>\n",
       "      <td>NaN</td>\n",
       "      <td>NaN</td>\n",
       "      <td>NaN</td>\n",
       "      <td>1996</td>\n",
       "      <td>2018-09-06</td>\n",
       "      <td>...</td>\n",
       "      <td>1</td>\n",
       "      <td>Warm</td>\n",
       "      <td>0</td>\n",
       "      <td>0.368627</td>\n",
       "      <td>Cygnus</td>\n",
       "      <td>Cyg</td>\n",
       "      <td>Swan</td>\n",
       "      <td>13.421749</td>\n",
       "      <td>565.73385</td>\n",
       "      <td>1.66</td>\n",
       "    </tr>\n",
       "  </tbody>\n",
       "</table>\n",
       "<p>5 rows × 112 columns</p>\n",
       "</div>"
      ],
      "text/plain": [
       "       P_NAME  P_STATUS      P_MASS  P_MASS_ERROR_MIN  P_MASS_ERROR_MAX  \\\n",
       "0    11 Com b       3.0  6165.86330        -476.74200         476.74200   \n",
       "1    11 UMi b       3.0  4684.78480        -794.57001         794.57001   \n",
       "2    14 And b       3.0  1525.57440               NaN               NaN   \n",
       "3    14 Her b       3.0  1481.07850         -47.67420          47.67420   \n",
       "4  16 Cyg B b       3.0   565.73385         -25.42624          25.42624   \n",
       "\n",
       "   P_RADIUS  P_RADIUS_ERROR_MIN  P_RADIUS_ERROR_MAX  P_YEAR   P_UPDATED  ...  \\\n",
       "0       NaN                 NaN                 NaN    2007  2014-05-14  ...   \n",
       "1       NaN                 NaN                 NaN    2009  2018-09-06  ...   \n",
       "2       NaN                 NaN                 NaN    2008  2014-05-14  ...   \n",
       "3       NaN                 NaN                 NaN    2002  2018-09-06  ...   \n",
       "4       NaN                 NaN                 NaN    1996  2018-09-06  ...   \n",
       "\n",
       "   P_HABZONE_CON  P_TYPE_TEMP  P_HABITABLE     P_ESI  S_CONSTELLATION  \\\n",
       "0              0          Hot            0  0.083813   Coma Berenices   \n",
       "1              0          Hot            0  0.082414       Ursa Minor   \n",
       "2              0          Hot            0  0.081917        Andromeda   \n",
       "3              0         Cold            0  0.145241         Hercules   \n",
       "4              1         Warm            0  0.368627           Cygnus   \n",
       "\n",
       "   S_CONSTELLATION_ABR  S_CONSTELLATION_ENG  P_RADIUS_EST  P_MASS_EST  \\\n",
       "0                  Com      Berenice's Hair     12.082709  6165.86330   \n",
       "1                  UMi          Little Bear     12.229641  4684.78480   \n",
       "2                  And            Andromeda     12.848516  1525.57440   \n",
       "3                  Her             Hercules     12.865261  1481.07850   \n",
       "4                  Cyg                 Swan     13.421749   565.73385   \n",
       "\n",
       "   P_SEMI_MAJOR_AXIS_EST  \n",
       "0                   1.29  \n",
       "1                   1.53  \n",
       "2                   0.83  \n",
       "3                   2.93  \n",
       "4                   1.66  \n",
       "\n",
       "[5 rows x 112 columns]"
      ]
     },
     "execution_count": 1,
     "metadata": {},
     "output_type": "execute_result"
    }
   ],
   "source": [
    "import numpy as np\n",
    "import pandas as pd\n",
    "import matplotlib.pyplot as plt\n",
    "import seaborn as sns\n",
    "\n",
    "data=pd.read_csv(\"phl_exoplanet_catalog_2019.csv\")\n",
    "\n",
    "data.head()"
   ]
  },
  {
   "cell_type": "code",
   "execution_count": 2,
   "id": "a99f6243-1d76-4719-ab9a-9fe94a38e6f5",
   "metadata": {},
   "outputs": [],
   "source": [
    "m=data.P_MASS\n",
    "r=data.P_RADIUS"
   ]
  },
  {
   "cell_type": "code",
   "execution_count": 3,
   "id": "b9e9fbdf-4f95-4900-900e-171af94b5aa5",
   "metadata": {},
   "outputs": [
    {
     "data": {
      "text/plain": [
       "0       6165.86330\n",
       "1       4684.78480\n",
       "2       1525.57440\n",
       "3       1481.07850\n",
       "4        565.73385\n",
       "           ...    \n",
       "4043           NaN\n",
       "4044           NaN\n",
       "4045       1.38000\n",
       "4046       1.75000\n",
       "4047       1.68000\n",
       "Name: P_MASS, Length: 4048, dtype: float64"
      ]
     },
     "execution_count": 3,
     "metadata": {},
     "output_type": "execute_result"
    }
   ],
   "source": [
    "m"
   ]
  },
  {
   "cell_type": "code",
   "execution_count": 4,
   "id": "c209ba4d-2bac-46af-9cfd-05bcd8d874f7",
   "metadata": {},
   "outputs": [
    {
     "data": {
      "text/plain": [
       "0        NaN\n",
       "1        NaN\n",
       "2        NaN\n",
       "3        NaN\n",
       "4        NaN\n",
       "        ... \n",
       "4043    1.87\n",
       "4044    2.76\n",
       "4045     NaN\n",
       "4046     NaN\n",
       "4047     NaN\n",
       "Name: P_RADIUS, Length: 4048, dtype: float64"
      ]
     },
     "execution_count": 4,
     "metadata": {},
     "output_type": "execute_result"
    }
   ],
   "source": [
    "r"
   ]
  },
  {
   "cell_type": "code",
   "execution_count": 5,
   "id": "382bfc3b-ba03-488a-98ad-4f2529c6afcb",
   "metadata": {},
   "outputs": [],
   "source": [
    "df=data[['P_MASS','P_RADIUS']]"
   ]
  },
  {
   "cell_type": "code",
   "execution_count": 6,
   "id": "f7dc8024-aabe-4459-87a5-3a37ee553cee",
   "metadata": {},
   "outputs": [
    {
     "data": {
      "text/html": [
       "<div>\n",
       "<style scoped>\n",
       "    .dataframe tbody tr th:only-of-type {\n",
       "        vertical-align: middle;\n",
       "    }\n",
       "\n",
       "    .dataframe tbody tr th {\n",
       "        vertical-align: top;\n",
       "    }\n",
       "\n",
       "    .dataframe thead th {\n",
       "        text-align: right;\n",
       "    }\n",
       "</style>\n",
       "<table border=\"1\" class=\"dataframe\">\n",
       "  <thead>\n",
       "    <tr style=\"text-align: right;\">\n",
       "      <th></th>\n",
       "      <th>P_MASS</th>\n",
       "      <th>P_RADIUS</th>\n",
       "    </tr>\n",
       "  </thead>\n",
       "  <tbody>\n",
       "    <tr>\n",
       "      <th>0</th>\n",
       "      <td>6165.86330</td>\n",
       "      <td>NaN</td>\n",
       "    </tr>\n",
       "    <tr>\n",
       "      <th>1</th>\n",
       "      <td>4684.78480</td>\n",
       "      <td>NaN</td>\n",
       "    </tr>\n",
       "    <tr>\n",
       "      <th>2</th>\n",
       "      <td>1525.57440</td>\n",
       "      <td>NaN</td>\n",
       "    </tr>\n",
       "    <tr>\n",
       "      <th>3</th>\n",
       "      <td>1481.07850</td>\n",
       "      <td>NaN</td>\n",
       "    </tr>\n",
       "    <tr>\n",
       "      <th>4</th>\n",
       "      <td>565.73385</td>\n",
       "      <td>NaN</td>\n",
       "    </tr>\n",
       "  </tbody>\n",
       "</table>\n",
       "</div>"
      ],
      "text/plain": [
       "       P_MASS  P_RADIUS\n",
       "0  6165.86330       NaN\n",
       "1  4684.78480       NaN\n",
       "2  1525.57440       NaN\n",
       "3  1481.07850       NaN\n",
       "4   565.73385       NaN"
      ]
     },
     "execution_count": 6,
     "metadata": {},
     "output_type": "execute_result"
    }
   ],
   "source": [
    "df.head()"
   ]
  },
  {
   "cell_type": "code",
   "execution_count": 7,
   "id": "8357285f-88da-4783-950a-3b0c33ca63ef",
   "metadata": {},
   "outputs": [],
   "source": [
    "n=2*m*0.0000000000667408"
   ]
  },
  {
   "cell_type": "code",
   "execution_count": 8,
   "id": "7203e8ff-5d63-4b41-bca9-1904e781f32b",
   "metadata": {},
   "outputs": [
    {
     "data": {
      "text/plain": [
       "0       8.230293e-07\n",
       "1       6.253326e-07\n",
       "2       2.036361e-07\n",
       "3       1.976967e-07\n",
       "4       7.551506e-08\n",
       "            ...     \n",
       "4043             NaN\n",
       "4044             NaN\n",
       "4045    1.842046e-10\n",
       "4046    2.335928e-10\n",
       "4047    2.242491e-10\n",
       "Name: P_MASS, Length: 4048, dtype: float64"
      ]
     },
     "execution_count": 8,
     "metadata": {},
     "output_type": "execute_result"
    }
   ],
   "source": [
    "n"
   ]
  },
  {
   "cell_type": "code",
   "execution_count": 9,
   "id": "90d47b5e-bb4e-441f-b808-6c1ef4a85fc1",
   "metadata": {},
   "outputs": [],
   "source": [
    "col=n/r"
   ]
  },
  {
   "cell_type": "code",
   "execution_count": 10,
   "id": "7d2562df-4723-4c16-ac13-1b14162eb895",
   "metadata": {},
   "outputs": [
    {
     "data": {
      "text/plain": [
       "0      NaN\n",
       "1      NaN\n",
       "2      NaN\n",
       "3      NaN\n",
       "4      NaN\n",
       "        ..\n",
       "4043   NaN\n",
       "4044   NaN\n",
       "4045   NaN\n",
       "4046   NaN\n",
       "4047   NaN\n",
       "Length: 4048, dtype: float64"
      ]
     },
     "execution_count": 10,
     "metadata": {},
     "output_type": "execute_result"
    }
   ],
   "source": [
    "col"
   ]
  },
  {
   "cell_type": "code",
   "execution_count": 11,
   "id": "c8d24d03-c0e7-492a-ab73-1cd7cc29ab89",
   "metadata": {},
   "outputs": [],
   "source": [
    "col=col**(1/2)"
   ]
  },
  {
   "cell_type": "code",
   "execution_count": 12,
   "id": "d0a2ef7d-e53a-42e2-bda5-41bb08c18a04",
   "metadata": {},
   "outputs": [
    {
     "data": {
      "text/plain": [
       "0      NaN\n",
       "1      NaN\n",
       "2      NaN\n",
       "3      NaN\n",
       "4      NaN\n",
       "        ..\n",
       "4043   NaN\n",
       "4044   NaN\n",
       "4045   NaN\n",
       "4046   NaN\n",
       "4047   NaN\n",
       "Length: 4048, dtype: float64"
      ]
     },
     "execution_count": 12,
     "metadata": {},
     "output_type": "execute_result"
    }
   ],
   "source": [
    "col"
   ]
  },
  {
   "cell_type": "code",
   "execution_count": 13,
   "id": "dccee815-be06-4b18-b941-dd615d2b8901",
   "metadata": {},
   "outputs": [
    {
     "data": {
      "text/plain": [
       "pandas.core.series.Series"
      ]
     },
     "execution_count": 13,
     "metadata": {},
     "output_type": "execute_result"
    }
   ],
   "source": [
    "type(col)"
   ]
  },
  {
   "cell_type": "code",
   "execution_count": 14,
   "id": "49429bbc-d5df-49c0-b824-36fdf51e4070",
   "metadata": {},
   "outputs": [],
   "source": [
    "#df.merge(col,how='right')"
   ]
  },
  {
   "cell_type": "code",
   "execution_count": null,
   "id": "f93a26f9-56c9-4673-9c78-126851e7f36f",
   "metadata": {},
   "outputs": [],
   "source": []
  }
 ],
 "metadata": {
  "kernelspec": {
   "display_name": "Python 3 (ipykernel)",
   "language": "python",
   "name": "python3"
  },
  "language_info": {
   "codemirror_mode": {
    "name": "ipython",
    "version": 3
   },
   "file_extension": ".py",
   "mimetype": "text/x-python",
   "name": "python",
   "nbconvert_exporter": "python",
   "pygments_lexer": "ipython3",
   "version": "3.10.9"
  }
 },
 "nbformat": 4,
 "nbformat_minor": 5
}
